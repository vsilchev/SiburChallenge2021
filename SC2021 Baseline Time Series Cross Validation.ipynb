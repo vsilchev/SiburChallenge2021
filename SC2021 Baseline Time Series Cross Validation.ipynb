{
 "cells": [
  {
   "cell_type": "code",
   "execution_count": 1,
   "metadata": {},
   "outputs": [
    {
     "name": "stdout",
     "output_type": "stream",
     "text": [
      "Populating the interactive namespace from numpy and matplotlib\n"
     ]
    }
   ],
   "source": [
    "%pylab inline\n",
    "plt.style.use(\"bmh\")"
   ]
  },
  {
   "cell_type": "code",
   "execution_count": 2,
   "metadata": {},
   "outputs": [],
   "source": [
    "import pathlib\n",
    "import pandas as pd\n",
    "from catboost import CatBoostRegressor\n",
    "from sklearn.metrics import mean_squared_log_error as msle\n",
    "from sklearn.model_selection import TimeSeriesSplit"
   ]
  },
  {
   "cell_type": "code",
   "execution_count": 3,
   "metadata": {},
   "outputs": [],
   "source": [
    "DATA_DIR = pathlib.Path(\".\")\n",
    "DATA_FILE = \"sc2021_train_deals.csv\"\n",
    "AGG_COLS = [\"material_code\", \"company_code\", \"country\", \"region\", \"manager_code\"]\n",
    "RS = 82736\n",
    "\n",
    "GROUPS = 941 # Number of \"material-company-country-region-manager\" groups"
   ]
  },
  {
   "cell_type": "markdown",
   "metadata": {},
   "source": [
    "# Загрузка данных"
   ]
  },
  {
   "cell_type": "code",
   "execution_count": 4,
   "metadata": {},
   "outputs": [],
   "source": [
    "data = pd.read_csv(DATA_DIR.joinpath(DATA_FILE), parse_dates=[\"month\", \"date\"])\n",
    "group_ts = data.groupby(AGG_COLS + [\"month\"])[\"volume\"].sum().unstack(fill_value=0)"
   ]
  },
  {
   "cell_type": "markdown",
   "metadata": {},
   "source": [
    "По умолчанию, для каждого целевого месяца резервируются предыдущие 12 месяцев для генерации признаков."
   ]
  },
  {
   "cell_type": "code",
   "execution_count": 5,
   "metadata": {},
   "outputs": [],
   "source": [
    "target_full_range = pd.date_range(\"2019-01-01\", \"2020-07-01\", freq=\"MS\")"
   ]
  },
  {
   "cell_type": "markdown",
   "metadata": {},
   "source": [
    "# Baseline #1: последнее известное значение"
   ]
  },
  {
   "cell_type": "code",
   "execution_count": 6,
   "metadata": {},
   "outputs": [],
   "source": [
    "last_value_datasets = []\n",
    "for target_month in target_full_range:\n",
    "    previous_month = target_month - pd.offsets.MonthBegin(1)\n",
    "    features = pd.DataFrame([], index=group_ts.index)\n",
    "    features[['vol_tm1', 'target']] = group_ts.loc[:, previous_month:target_month].copy()\n",
    "    features['target_month'] = target_month\n",
    "    last_value_datasets.append(features.reset_index())\n",
    "\n",
    "last_value_features = pd.concat(last_value_datasets, ignore_index=True)\n",
    "\n",
    "# Safety Check 1: make sure, that rows are ordered by time ('target_month')\n",
    "assert last_value_features['target_month'].is_monotonic\n",
    "\n",
    "# Safety Check 2: make sure, that there are exactly 941 groups for every month\n",
    "assert (last_value_features['target_month'].value_counts() == GROUPS).all()"
   ]
  },
  {
   "cell_type": "code",
   "execution_count": 7,
   "metadata": {},
   "outputs": [
    {
     "data": {
      "text/html": [
       "<div>\n",
       "<style scoped>\n",
       "    .dataframe tbody tr th:only-of-type {\n",
       "        vertical-align: middle;\n",
       "    }\n",
       "\n",
       "    .dataframe tbody tr th {\n",
       "        vertical-align: top;\n",
       "    }\n",
       "\n",
       "    .dataframe thead th {\n",
       "        text-align: right;\n",
       "    }\n",
       "</style>\n",
       "<table border=\"1\" class=\"dataframe\">\n",
       "  <thead>\n",
       "    <tr style=\"text-align: right;\">\n",
       "      <th></th>\n",
       "      <th>material_code</th>\n",
       "      <th>company_code</th>\n",
       "      <th>country</th>\n",
       "      <th>region</th>\n",
       "      <th>manager_code</th>\n",
       "      <th>vol_tm1</th>\n",
       "      <th>target</th>\n",
       "      <th>target_month</th>\n",
       "    </tr>\n",
       "  </thead>\n",
       "  <tbody>\n",
       "    <tr>\n",
       "      <th>10567</th>\n",
       "      <td>197</td>\n",
       "      <td>0</td>\n",
       "      <td>Россия</td>\n",
       "      <td>Томская обл.</td>\n",
       "      <td>17506</td>\n",
       "      <td>0.0</td>\n",
       "      <td>42.0</td>\n",
       "      <td>2019-12-01</td>\n",
       "    </tr>\n",
       "    <tr>\n",
       "      <th>16368</th>\n",
       "      <td>286</td>\n",
       "      <td>1378</td>\n",
       "      <td>Венгрия</td>\n",
       "      <td>Венгрия</td>\n",
       "      <td>15986</td>\n",
       "      <td>20.0</td>\n",
       "      <td>19.0</td>\n",
       "      <td>2020-06-01</td>\n",
       "    </tr>\n",
       "    <tr>\n",
       "      <th>17193</th>\n",
       "      <td>214</td>\n",
       "      <td>0</td>\n",
       "      <td>Россия</td>\n",
       "      <td>Респ. Саха (Якутия)</td>\n",
       "      <td>16656</td>\n",
       "      <td>128.0</td>\n",
       "      <td>172.0</td>\n",
       "      <td>2020-07-01</td>\n",
       "    </tr>\n",
       "    <tr>\n",
       "      <th>15453</th>\n",
       "      <td>303</td>\n",
       "      <td>0</td>\n",
       "      <td>Россия</td>\n",
       "      <td>Омская обл.</td>\n",
       "      <td>16656</td>\n",
       "      <td>0.0</td>\n",
       "      <td>20.0</td>\n",
       "      <td>2020-05-01</td>\n",
       "    </tr>\n",
       "    <tr>\n",
       "      <th>12111</th>\n",
       "      <td>717</td>\n",
       "      <td>8837</td>\n",
       "      <td>Россия</td>\n",
       "      <td>Нижегородская обл.</td>\n",
       "      <td>10670</td>\n",
       "      <td>0.0</td>\n",
       "      <td>21.0</td>\n",
       "      <td>2020-01-01</td>\n",
       "    </tr>\n",
       "  </tbody>\n",
       "</table>\n",
       "</div>"
      ],
      "text/plain": [
       "       material_code  company_code  country               region  \\\n",
       "10567            197             0   Россия         Томская обл.   \n",
       "16368            286          1378  Венгрия              Венгрия   \n",
       "17193            214             0   Россия  Респ. Саха (Якутия)   \n",
       "15453            303             0   Россия          Омская обл.   \n",
       "12111            717          8837   Россия   Нижегородская обл.   \n",
       "\n",
       "       manager_code  vol_tm1  target target_month  \n",
       "10567         17506      0.0    42.0   2019-12-01  \n",
       "16368         15986     20.0    19.0   2020-06-01  \n",
       "17193         16656    128.0   172.0   2020-07-01  \n",
       "15453         16656      0.0    20.0   2020-05-01  \n",
       "12111         10670      0.0    21.0   2020-01-01  "
      ]
     },
     "execution_count": 7,
     "metadata": {},
     "output_type": "execute_result"
    }
   ],
   "source": [
    "last_value_features.sample(n=5)"
   ]
  },
  {
   "cell_type": "markdown",
   "metadata": {},
   "source": [
    "### Кросс-валидация для временных рядов\n",
    "\n",
    "**Как это работает**: статья [Cross validation of time series data](https://scikit-learn.org/stable/modules/cross_validation.html#cross-validation-of-time-series-data) из scikit-learn User Guide\n",
    "\n",
    "Требование к данным: строки должны быть упорядочены по времени.\n",
    "\n",
    "Для такой простой модели шаг обучения будет тривиальным: запомнить значение для предыдущего месяца. Кросс-валидация сводится к тому, чтобы проверить модель на нескольких тестовых датасетах.\n",
    "\n",
    "Будем использовать 5 последовательных разбиенией на обучающую и тестовую выборки, причём в каждом разбиении тестовая выборка содержит данные за 3 месяца, следущие после обучающей выборки:\n",
    "\n",
    " 1. Обучение: `2019-01-01` - `2019-04-01`, Тест: `2019-05-01` - `2019-07-01` \n",
    " 2. Обучение: `2019-01-01` - `2019-07-01`, Тест: `2019-08-01` - `2019-10-01` \n",
    " 3. Обучение: `2019-01-01` - `2019-10-01`, Тест: `2019-11-01` - `2020-01-01` \n",
    " 4. Обучение: `2019-01-01` - `2020-01-01`, Тест: `2020-02-01` - `2020-04-01`\n",
    " 5. Обучение: `2019-01-01` - `2020-04-01`, Тест: `2020-05-01` - `2020-07-01`"
   ]
  },
  {
   "cell_type": "code",
   "execution_count": 8,
   "metadata": {},
   "outputs": [
    {
     "name": "stdout",
     "output_type": "stream",
     "text": [
      "Train range: 2019-01-01 00:00:00 - 2019-04-01 00:00:00. Train Loss (RMSLE): 1.792478\n",
      "Test range:  2019-05-01 00:00:00 - 2019-07-01 00:00:00. Test Loss (RMSLE):  1.757021\n",
      "\n",
      "Train range: 2019-01-01 00:00:00 - 2019-07-01 00:00:00. Train Loss (RMSLE): 1.777368\n",
      "Test range:  2019-08-01 00:00:00 - 2019-10-01 00:00:00. Test Loss (RMSLE):  1.737792\n",
      "\n",
      "Train range: 2019-01-01 00:00:00 - 2019-10-01 00:00:00. Train Loss (RMSLE): 1.765589\n",
      "Test range:  2019-11-01 00:00:00 - 2020-01-01 00:00:00. Test Loss (RMSLE):  1.963820\n",
      "\n",
      "Train range: 2019-01-01 00:00:00 - 2020-01-01 00:00:00. Train Loss (RMSLE): 1.813259\n",
      "Test range:  2020-02-01 00:00:00 - 2020-04-01 00:00:00. Test Loss (RMSLE):  2.046455\n",
      "\n",
      "Train range: 2019-01-01 00:00:00 - 2020-04-01 00:00:00. Train Loss (RMSLE): 1.859212\n",
      "Test range:  2020-05-01 00:00:00 - 2020-07-01 00:00:00. Test Loss (RMSLE):  2.027146\n",
      "\n",
      "Avg. Train Loss: 1.774749, Avg. Test Loss: 1.757580\n"
     ]
    }
   ],
   "source": [
    "ts_cv = TimeSeriesSplit(n_splits=5, test_size=GROUPS*3)\n",
    "ts_cv_losses = []\n",
    "for train_idx, test_idx in ts_cv.split(last_value_features):\n",
    "    X_train = last_value_features.drop(columns=['target']).iloc[train_idx]\n",
    "    X_test = last_value_features.drop(columns=['target']).iloc[test_idx]\n",
    "    y_train = last_value_features['target'].iloc[train_idx]\n",
    "    y_test = last_value_features['target'].iloc[test_idx]\n",
    "        \n",
    "    train_loss = msle(y_train, X_train['vol_tm1'], squared=False)\n",
    "    test_loss = msle(y_test, X_test['vol_tm1'], squared=False)\n",
    "        \n",
    "    ts_cv_losses.append([train_loss, test_loss])\n",
    "        \n",
    "    print(\"Train range: {} - {}.\".format(X_train['target_month'].min(), X_train['target_month'].max()),\n",
    "            \"Train Loss (RMSLE): {:.6f}\".format(train_loss))\n",
    "    print(\"Test range:  {} - {}.\".format(X_test['target_month'].min(),X_test['target_month'].max()),\n",
    "            \"Test Loss (RMSLE):  {:.6f}\\n\".format(test_loss))\n",
    "        \n",
    "print(\"Avg. Train Loss: {:.6f}, Avg. Test Loss: {:.6f}\".format(*np.mean(ts_cv_losses, axis=1)))"
   ]
  },
  {
   "cell_type": "markdown",
   "metadata": {},
   "source": [
    "# Baseline #2: среднее за последние три месяца"
   ]
  },
  {
   "cell_type": "code",
   "execution_count": 9,
   "metadata": {},
   "outputs": [],
   "source": [
    "last_3_avg_datasets = []\n",
    "for target_month in target_full_range:\n",
    "    start_period = target_month - pd.offsets.MonthBegin(3)\n",
    "    end_period = target_month - pd.offsets.MonthBegin(1)\n",
    "    features = pd.DataFrame([], index=group_ts.index)\n",
    "    features['last_3m_avg'] = group_ts.loc[:, start_period:end_period].mean(axis=1)\n",
    "    features['target'] = group_ts[target_month]\n",
    "    features['target_month'] = target_month\n",
    "    last_3_avg_datasets.append(features.reset_index())\n",
    "\n",
    "last_3_avg_features = pd.concat(last_3_avg_datasets, ignore_index=True)\n",
    "\n",
    "# Safety Check 1: make sure, that rows are ordered by time ('target_month')\n",
    "assert last_3_avg_features['target_month'].is_monotonic\n",
    "\n",
    "# Safety Check 2: make sure, that there are exactly 941 groups for every month\n",
    "assert (last_3_avg_features['target_month'].value_counts() == GROUPS).all()"
   ]
  },
  {
   "cell_type": "code",
   "execution_count": 10,
   "metadata": {},
   "outputs": [
    {
     "data": {
      "text/html": [
       "<div>\n",
       "<style scoped>\n",
       "    .dataframe tbody tr th:only-of-type {\n",
       "        vertical-align: middle;\n",
       "    }\n",
       "\n",
       "    .dataframe tbody tr th {\n",
       "        vertical-align: top;\n",
       "    }\n",
       "\n",
       "    .dataframe thead th {\n",
       "        text-align: right;\n",
       "    }\n",
       "</style>\n",
       "<table border=\"1\" class=\"dataframe\">\n",
       "  <thead>\n",
       "    <tr style=\"text-align: right;\">\n",
       "      <th></th>\n",
       "      <th>material_code</th>\n",
       "      <th>company_code</th>\n",
       "      <th>country</th>\n",
       "      <th>region</th>\n",
       "      <th>manager_code</th>\n",
       "      <th>last_3m_avg</th>\n",
       "      <th>target</th>\n",
       "      <th>target_month</th>\n",
       "    </tr>\n",
       "  </thead>\n",
       "  <tbody>\n",
       "    <tr>\n",
       "      <th>17472</th>\n",
       "      <td>486</td>\n",
       "      <td>1851</td>\n",
       "      <td>Россия</td>\n",
       "      <td>Россия</td>\n",
       "      <td>12444</td>\n",
       "      <td>97.666667</td>\n",
       "      <td>42.0</td>\n",
       "      <td>2020-07-01</td>\n",
       "    </tr>\n",
       "    <tr>\n",
       "      <th>2362</th>\n",
       "      <td>443</td>\n",
       "      <td>0</td>\n",
       "      <td>Россия</td>\n",
       "      <td>г. Санкт-Петербург</td>\n",
       "      <td>14956</td>\n",
       "      <td>13.333333</td>\n",
       "      <td>20.0</td>\n",
       "      <td>2019-03-01</td>\n",
       "    </tr>\n",
       "    <tr>\n",
       "      <th>5214</th>\n",
       "      <td>451</td>\n",
       "      <td>0</td>\n",
       "      <td>Россия</td>\n",
       "      <td>Нижегородская обл.</td>\n",
       "      <td>15938</td>\n",
       "      <td>0.000000</td>\n",
       "      <td>0.0</td>\n",
       "      <td>2019-06-01</td>\n",
       "    </tr>\n",
       "    <tr>\n",
       "      <th>1888</th>\n",
       "      <td>133</td>\n",
       "      <td>0</td>\n",
       "      <td>Китай</td>\n",
       "      <td>Китай</td>\n",
       "      <td>16079</td>\n",
       "      <td>128.333333</td>\n",
       "      <td>145.0</td>\n",
       "      <td>2019-03-01</td>\n",
       "    </tr>\n",
       "    <tr>\n",
       "      <th>6329</th>\n",
       "      <td>583</td>\n",
       "      <td>0</td>\n",
       "      <td>Россия</td>\n",
       "      <td>Пермский край</td>\n",
       "      <td>16788</td>\n",
       "      <td>40.000000</td>\n",
       "      <td>0.0</td>\n",
       "      <td>2019-07-01</td>\n",
       "    </tr>\n",
       "  </tbody>\n",
       "</table>\n",
       "</div>"
      ],
      "text/plain": [
       "       material_code  company_code country              region  manager_code  \\\n",
       "17472            486          1851  Россия              Россия         12444   \n",
       "2362             443             0  Россия  г. Санкт-Петербург         14956   \n",
       "5214             451             0  Россия  Нижегородская обл.         15938   \n",
       "1888             133             0   Китай               Китай         16079   \n",
       "6329             583             0  Россия       Пермский край         16788   \n",
       "\n",
       "       last_3m_avg  target target_month  \n",
       "17472    97.666667    42.0   2020-07-01  \n",
       "2362     13.333333    20.0   2019-03-01  \n",
       "5214      0.000000     0.0   2019-06-01  \n",
       "1888    128.333333   145.0   2019-03-01  \n",
       "6329     40.000000     0.0   2019-07-01  "
      ]
     },
     "execution_count": 10,
     "metadata": {},
     "output_type": "execute_result"
    }
   ],
   "source": [
    "last_3_avg_features.sample(n=5)"
   ]
  },
  {
   "cell_type": "markdown",
   "metadata": {},
   "source": [
    "### Кросс-валидация для временных рядов\n",
    "\n",
    "Аналогично, как и для предыдущей модели"
   ]
  },
  {
   "cell_type": "code",
   "execution_count": 11,
   "metadata": {},
   "outputs": [
    {
     "name": "stdout",
     "output_type": "stream",
     "text": [
      "Train range: 2019-01-01 00:00:00 - 2019-04-01 00:00:00. Train Loss (RMSLE): 1.705125\n",
      "Test range:  2019-05-01 00:00:00 - 2019-07-01 00:00:00. Test Loss (RMSLE):  1.652521\n",
      "\n",
      "Train range: 2019-01-01 00:00:00 - 2019-07-01 00:00:00. Train Loss (RMSLE): 1.682782\n",
      "Test range:  2019-08-01 00:00:00 - 2019-10-01 00:00:00. Test Loss (RMSLE):  1.681824\n",
      "\n",
      "Train range: 2019-01-01 00:00:00 - 2019-10-01 00:00:00. Train Loss (RMSLE): 1.682494\n",
      "Test range:  2019-11-01 00:00:00 - 2020-01-01 00:00:00. Test Loss (RMSLE):  1.916876\n",
      "\n",
      "Train range: 2019-01-01 00:00:00 - 2020-01-01 00:00:00. Train Loss (RMSLE): 1.739388\n",
      "Test range:  2020-02-01 00:00:00 - 2020-04-01 00:00:00. Test Loss (RMSLE):  1.917399\n",
      "\n",
      "Train range: 2019-01-01 00:00:00 - 2020-04-01 00:00:00. Train Loss (RMSLE): 1.774126\n",
      "Test range:  2020-05-01 00:00:00 - 2020-07-01 00:00:00. Test Loss (RMSLE):  1.892962\n",
      "\n",
      "Avg. Train Loss: 1.678823, Avg. Test Loss: 1.682303\n"
     ]
    }
   ],
   "source": [
    "ts_cv = TimeSeriesSplit(n_splits=5, test_size=GROUPS*3)\n",
    "ts_cv_losses = []\n",
    "for train_idx, test_idx in ts_cv.split(last_3_avg_features):\n",
    "    X_train = last_3_avg_features.drop(columns=['target']).iloc[train_idx]\n",
    "    X_test = last_3_avg_features.drop(columns=['target']).iloc[test_idx]\n",
    "    y_train = last_3_avg_features['target'].iloc[train_idx]\n",
    "    y_test = last_3_avg_features['target'].iloc[test_idx]\n",
    "        \n",
    "    train_loss = msle(y_train, X_train['last_3m_avg'], squared=False)\n",
    "    test_loss = msle(y_test, X_test['last_3m_avg'], squared=False)\n",
    "        \n",
    "    ts_cv_losses.append([train_loss, test_loss])\n",
    "        \n",
    "    print(\"Train range: {} - {}.\".format(X_train['target_month'].min(), X_train['target_month'].max()),\n",
    "            \"Train Loss (RMSLE): {:.6f}\".format(train_loss))\n",
    "    print(\"Test range:  {} - {}.\".format(X_test['target_month'].min(),X_test['target_month'].max()),\n",
    "            \"Test Loss (RMSLE):  {:.6f}\\n\".format(test_loss))\n",
    "        \n",
    "print(\"Avg. Train Loss: {:.6f}, Avg. Test Loss: {:.6f}\".format(*np.mean(ts_cv_losses, axis=1)))"
   ]
  },
  {
   "cell_type": "markdown",
   "metadata": {},
   "source": [
    "# Baseline #3: CatBoostRegressor\n",
    "\n",
    "Признаки:\n",
    "\n",
    "- оригинальные категориальные признаки,\n",
    "- месяц, для которого предсказываем,\n",
    "- среднее, минимум и максимум за год,\n",
    "- последние 6 месяцев до месяца, для которого предсказываем."
   ]
  },
  {
   "cell_type": "code",
   "execution_count": 12,
   "metadata": {},
   "outputs": [],
   "source": [
    "def get_features(df: pd.DataFrame, month: pd.Timestamp) -> pd.DataFrame:\n",
    "    \"\"\"Calculate features for `month`.\"\"\"\n",
    "\n",
    "    start_period = month - pd.offsets.MonthBegin(6)\n",
    "    end_period = month - pd.offsets.MonthBegin(1)\n",
    "\n",
    "    df = df.loc[:, :end_period]\n",
    "\n",
    "    features = pd.DataFrame([], index=df.index)\n",
    "    features['month'] = month.month\n",
    "    features[[f\"vol_tm{i}\" for i in range(6, 0, -1)]] = df.loc[:, start_period:end_period].copy()\n",
    "\n",
    "    rolling = df.rolling(12, axis=1, min_periods=1)\n",
    "    features = features.join(rolling.mean().iloc[:, -1].rename('last_year_avg'))\n",
    "    features = features.join(rolling.min().iloc[:, -1].rename('last_year_min'))\n",
    "    features = features.join(rolling.max().iloc[:, -1].rename('last_year_max'))\n",
    "    return features"
   ]
  },
  {
   "cell_type": "code",
   "execution_count": 13,
   "metadata": {},
   "outputs": [],
   "source": [
    "catboost_datasets = []\n",
    "for target_month in target_full_range:\n",
    "    features = get_features(group_ts, target_month)\n",
    "    features['target'] = group_ts[target_month]\n",
    "    catboost_datasets.append(features.reset_index())\n",
    "catboost_features = pd.concat(catboost_datasets, ignore_index=True)"
   ]
  },
  {
   "cell_type": "markdown",
   "metadata": {},
   "source": [
    "### Кросс-валидация\n",
    "\n",
    "Для оценки качества модели будем использовать такую же кросс-валидацию, как и для предыдущих двух примерах. На каждом этапе будем заново обучать и тестировать модель."
   ]
  },
  {
   "cell_type": "code",
   "execution_count": 14,
   "metadata": {},
   "outputs": [],
   "source": [
    "CAT_COLS = ['material_code', 'company_code', 'country', 'region', 'manager_code', 'month']\n",
    "FTS_COLS = ['material_code', 'company_code', 'country', 'region', 'manager_code', 'month',\n",
    "            'vol_tm6', 'vol_tm5', 'vol_tm4', 'vol_tm3', 'vol_tm2', 'vol_tm1',\n",
    "            'last_year_avg', 'last_year_min', 'last_year_max']\n",
    "TARGET = 'target'"
   ]
  },
  {
   "cell_type": "code",
   "execution_count": 15,
   "metadata": {},
   "outputs": [
    {
     "name": "stdout",
     "output_type": "stream",
     "text": [
      "Train Loss (RMSLE): 1.932906\n",
      "Test Loss (RMSLE):  1.947802\n",
      "\n",
      "Train Loss (RMSLE): 2.053931\n",
      "Test Loss (RMSLE):  1.908815\n",
      "\n",
      "Train Loss (RMSLE): 2.226333\n",
      "Test Loss (RMSLE):  2.250038\n",
      "\n",
      "Train Loss (RMSLE): 2.171322\n",
      "Test Loss (RMSLE):  2.211588\n",
      "\n",
      "Train Loss (RMSLE): 2.078048\n",
      "Test Loss (RMSLE):  2.221429\n",
      "\n",
      "Avg. Train Loss: 1.940354, Avg. Test Loss: 1.981373\n"
     ]
    }
   ],
   "source": [
    "base_model = CatBoostRegressor(iterations=1000, early_stopping_rounds=30,\n",
    "                               depth=6, cat_features=CAT_COLS,\n",
    "                               random_state=RS, verbose=False)\n",
    "\n",
    "ts_cv = TimeSeriesSplit(n_splits=5, test_size=GROUPS*3)\n",
    "ts_cv_losses = []\n",
    "for train_idx, test_idx in ts_cv.split(catboost_features):\n",
    "    \n",
    "    X_train = catboost_features[FTS_COLS].iloc[train_idx]\n",
    "    X_test = catboost_features[FTS_COLS].iloc[test_idx]\n",
    "    y_train = catboost_features[TARGET].iloc[train_idx]\n",
    "    y_test = catboost_features[TARGET].iloc[test_idx]\n",
    "    \n",
    "    model = base_model.copy()\n",
    "    model.fit(X_train, y_train, eval_set=(X_test, y_test))\n",
    "    \n",
    "    train_loss = msle(y_train, np.clip(model.predict(X_train), 0, None), squared=False)\n",
    "    test_loss = msle(y_test, np.clip(model.predict(X_test), 0, None), squared=False)\n",
    "        \n",
    "    ts_cv_losses.append([train_loss, test_loss])\n",
    "        \n",
    "    print(\"Train Loss (RMSLE): {:.6f}\".format(train_loss))\n",
    "    print(\"Test Loss (RMSLE):  {:.6f}\\n\".format(test_loss))\n",
    "        \n",
    "print(\"Avg. Train Loss: {:.6f}, Avg. Test Loss: {:.6f}\".format(*np.mean(ts_cv_losses, axis=1)))"
   ]
  },
  {
   "cell_type": "markdown",
   "metadata": {},
   "source": [
    "За основу взят [оригинальный Jupyther Notebook](https://sibur.ai-community.com/files/uploads/1e0024b8c6f92420a524903c2c6d71ff/[SC2021]%20Baseline.ipynb) c Baseline-решением для соревнования [Sibur Challenge 2021](https://sibur.ai-community.com/competitions/5)"
   ]
  }
 ],
 "metadata": {
  "kernelspec": {
   "display_name": "Python 3 (ipykernel)",
   "language": "python",
   "name": "python3"
  },
  "language_info": {
   "codemirror_mode": {
    "name": "ipython",
    "version": 3
   },
   "file_extension": ".py",
   "mimetype": "text/x-python",
   "name": "python",
   "nbconvert_exporter": "python",
   "pygments_lexer": "ipython3",
   "version": "3.9.7"
  }
 },
 "nbformat": 4,
 "nbformat_minor": 4
}
